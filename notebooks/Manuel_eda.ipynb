{
 "cells": [
  {
   "cell_type": "code",
   "execution_count": 7,
   "metadata": {},
   "outputs": [],
   "source": [
    "import pandas as pd\n",
    "import numpy as np\n",
    "import matplotlib.pyplot as plt\n",
    "\n",
    "\n"
   ]
  },
  {
   "cell_type": "code",
   "execution_count": 8,
   "metadata": {},
   "outputs": [],
   "source": [
    "brunson_data = pd.read_csv(\"../data/jalen_brunson.csv\")"
   ]
  },
  {
   "cell_type": "code",
   "execution_count": 10,
   "metadata": {},
   "outputs": [],
   "source": [
    "inactive = brunson_data[\"2P\"] == \"Inactive\"\n",
    "no_dress = brunson_data[\"2P\"] == \"Did Not Dress\"\n",
    "\n",
    "brunson_data_cleaned = brunson_data.drop(brunson_data[inactive | no_dress].index)\n"
   ]
  },
  {
   "cell_type": "code",
   "execution_count": null,
   "metadata": {},
   "outputs": [
    {
     "name": "stdout",
     "output_type": "stream",
     "text": [
      "      Rk   Gcar   Gtm        Date Team Unnamed: 5  Opp     Result  GS     MP  \\\n",
      "79  64.0  486.0  80.0  2025-04-10  NYK          @  DET  L 106-115   1  29:17   \n",
      "80  65.0  487.0  81.0  2025-04-11  NYK        NaN  CLE  L 102-108   1  36:17   \n",
      "82   NaN    NaN   NaN         NaN  NaN        NaN  NaN      40-25  65   2301   \n",
      "\n",
      "    ...  DRB  TRB  AST STL BLK  TOV   PF   PTS  GmSc  +/-  \n",
      "79  ...    0    2    5   0   2    3    2    15   7.8  -11  \n",
      "80  ...    1    1    2   1   0    3    1    27  17.6   -6  \n",
      "82  ...  160  187  475  60   8  164  138  1690  20.0  146  \n",
      "\n",
      "[3 rows x 34 columns]\n"
     ]
    }
   ],
   "source": [
    "print(brunson_data_cleaned.tail(3))\n",
    "# Removed the last row because it's just a season total.\n",
    "brunson_data_cleaned2 = brunson_data_cleaned[:-1]\n"
   ]
  },
  {
   "cell_type": "code",
   "execution_count": null,
   "metadata": {},
   "outputs": [
    {
     "name": "stderr",
     "output_type": "stream",
     "text": [
      "/var/folders/z_/j64wvfz51r91wny8ltdk6mjh0000gn/T/ipykernel_16371/2471494606.py:2: SettingWithCopyWarning: \n",
      "A value is trying to be set on a copy of a slice from a DataFrame.\n",
      "Try using .loc[row_indexer,col_indexer] = value instead\n",
      "\n",
      "See the caveats in the documentation: https://pandas.pydata.org/pandas-docs/stable/user_guide/indexing.html#returning-a-view-versus-a-copy\n",
      "  brunson_data_cleaned2[\"Home/Away\"] = brunson_data_cleaned2[\"Unnamed: 5\"].apply(\n"
     ]
    }
   ],
   "source": [
    "\n",
    "brunson_data_cleaned2[\"Home/Away\"] = brunson_data_cleaned2[\"Unnamed: 5\"].apply(\n",
    "    lambda x: \"Away\" if \"@\" in str(x) else \"Home\"\n",
    ")\n"
   ]
  },
  {
   "cell_type": "code",
   "execution_count": 14,
   "metadata": {},
   "outputs": [
    {
     "name": "stderr",
     "output_type": "stream",
     "text": [
      "/var/folders/z_/j64wvfz51r91wny8ltdk6mjh0000gn/T/ipykernel_16371/998015343.py:3: SettingWithCopyWarning: \n",
      "A value is trying to be set on a copy of a slice from a DataFrame.\n",
      "Try using .loc[row_indexer,col_indexer] = value instead\n",
      "\n",
      "See the caveats in the documentation: https://pandas.pydata.org/pandas-docs/stable/user_guide/indexing.html#returning-a-view-versus-a-copy\n",
      "  brunson_data_cleaned2[col] = pd.to_numeric(brunson_data_cleaned2[col], errors=\"coerce\")\n"
     ]
    }
   ],
   "source": [
    "cols = [\"PTS\", \"AST\", \"TRB\", \"TOV\", \"FG%\"]\n",
    "for col in cols:\n",
    "    brunson_data_cleaned2[col] = pd.to_numeric(brunson_data_cleaned2[col], errors=\"coerce\")\n"
   ]
  },
  {
   "cell_type": "code",
   "execution_count": 16,
   "metadata": {},
   "outputs": [
    {
     "name": "stdout",
     "output_type": "stream",
     "text": [
      "             PTS   AST   TRB   TOV\n",
      "Home/Away                         \n",
      "Away       26.97  6.97  3.10  2.74\n",
      "Home       25.12  7.62  2.68  2.32\n"
     ]
    }
   ],
   "source": [
    "home_away_avg = brunson_data_cleaned2.groupby(\"Home/Away\")[[\"PTS\", \"AST\", \"TRB\", \"TOV\",]].mean().round(2)\n",
    "print(home_away_avg)\n"
   ]
  },
  {
   "cell_type": "code",
   "execution_count": 17,
   "metadata": {},
   "outputs": [
    {
     "data": {
      "image/png": "[encoded data removed]",
      "text/plain": [
       "<Figure size 1000x600 with 1 Axes>"
      ]
     },
     "metadata": {},
     "output_type": "display_data"
    }
   ],
   "source": [
    "import matplotlib.pyplot as plt\n",
    "\n",
    "home_away_avg.plot(kind='bar', figsize=(10,6))\n",
    "plt.title(\"Brunson's Performance: Home vs. Away (2024–25)\")\n",
    "plt.ylabel(\"Average Stats\")\n",
    "plt.xticks(rotation=0)\n",
    "plt.tight_layout()\n",
    "plt.show()\n"
   ]
  }
 ],
 "metadata": {
  "kernelspec": {
   "display_name": "base",
   "language": "python",
   "name": "python3"
  },
  "language_info": {
   "codemirror_mode": {
    "name": "ipython",
    "version": 3
   },
   "file_extension": ".py",
   "mimetype": "text/x-python",
   "name": "python",
   "nbconvert_exporter": "python",
   "pygments_lexer": "ipython3",
   "version": "3.12.9"
  }
 },
 "nbformat": 4,
 "nbformat_minor": 2
}
